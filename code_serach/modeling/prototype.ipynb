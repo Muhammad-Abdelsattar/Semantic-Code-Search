{
 "cells": [
  {
   "cell_type": "code",
   "execution_count": 2,
   "metadata": {},
   "outputs": [
    {
     "name": "stdout",
     "output_type": "stream",
     "text": [
      "/teamspace/studios/this_studio/semantic_code_search/code_serach/modeling\n"
     ]
    }
   ],
   "source": [
    "%cd semantic_code_search/code_serach/modeling"
   ]
  },
  {
   "cell_type": "code",
   "execution_count": 7,
   "metadata": {},
   "outputs": [],
   "source": [
    "from omegaconf import OmegaConf\n",
    "from model_manager import *"
   ]
  },
  {
   "cell_type": "code",
   "execution_count": 12,
   "metadata": {},
   "outputs": [],
   "source": [
    "conf = OmegaConf.load(\"/teamspace/studios/this_studio/semantic_code_search/conf/modeling.yaml\")"
   ]
  },
  {
   "cell_type": "code",
   "execution_count": 13,
   "metadata": {},
   "outputs": [
    {
     "data": {
      "text/plain": [
       "{'model_id': 'jinaai/jina-embeddings-v2-base-code', 'fine_tuning': {'full': {'layers': 2, 'train_embeddings': False}, 'peft': {'lora': {'config': {'task_type': 'SEQ_CLS', 'inference_mode': False, 'target_modules': ['q_proj', 'v_proj', 'k_proj'], 'r': 8, 'lora_alpha': 32, 'lora_dropout': 0.05}}, 'prefix': {'config': {'task_type': 'SEQ_CLS', 'num_virtual_tokens': 20, 'inference_mode': False, 'prefix_projection': True}}}}}"
      ]
     },
     "execution_count": 13,
     "metadata": {},
     "output_type": "execute_result"
    }
   ],
   "source": []
  },
  {
   "cell_type": "code",
   "execution_count": null,
   "metadata": {},
   "outputs": [],
   "source": []
  }
 ],
 "metadata": {
  "kernelspec": {
   "display_name": "cloudspace",
   "language": "python",
   "name": "python3"
  },
  "language_info": {
   "codemirror_mode": {
    "name": "ipython",
    "version": 3
   },
   "file_extension": ".py",
   "mimetype": "text/x-python",
   "name": "python",
   "nbconvert_exporter": "python",
   "pygments_lexer": "ipython3",
   "version": "3.10.12"
  },
  "orig_nbformat": 4
 },
 "nbformat": 4,
 "nbformat_minor": 2
}
